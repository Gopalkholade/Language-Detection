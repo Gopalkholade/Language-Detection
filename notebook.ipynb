{
 "cells": [
  {
   "cell_type": "markdown",
   "metadata": {},
   "source": [
    "### Importing Libraries"
   ]
  },
  {
   "cell_type": "code",
   "execution_count": null,
   "metadata": {},
   "outputs": [],
   "source": [
    "import pandas as pd\n",
    "import numpy as np \n",
    "import seaborn as sns\n",
    "import matplotlib.pyplot as plt\n",
    "from sklearn.pipeline import Pipeline\n",
    "from sklearn.base import BaseEstimator, TransformerMixin\n",
    "from sklearn.naive_bayes import MultinomialNB\n",
    "from sklearn.metrics import classification_report\n",
    "from sklearn.feature_extraction.text import TfidfTransformer, CountVectorizer\n",
    "from sklearn.model_selection import train_test_split\n",
    "from sklearn.preprocessing import LabelEncoder\n",
    "import re"
   ]
  },
  {
   "cell_type": "code",
   "execution_count": null,
   "metadata": {},
   "outputs": [],
   "source": [
    "# importing csv\n",
    "df = pd.read_csv(\"./Dataset/Language Detection.csv\")\n",
    "data = df.copy()"
   ]
  },
  {
   "cell_type": "markdown",
   "metadata": {},
   "source": [
    "### EDA"
   ]
  },
  {
   "cell_type": "code",
   "execution_count": null,
   "metadata": {},
   "outputs": [],
   "source": [
    "df.head()"
   ]
  },
  {
   "cell_type": "code",
   "execution_count": null,
   "metadata": {},
   "outputs": [],
   "source": [
    "# checking for nulls\n",
    "df.isnull().sum()"
   ]
  },
  {
   "cell_type": "code",
   "execution_count": null,
   "metadata": {},
   "outputs": [],
   "source": [
    "df.columns=df.columns.str.lower()"
   ]
  },
  {
   "cell_type": "code",
   "execution_count": null,
   "metadata": {},
   "outputs": [],
   "source": [
    "ser = df['language'].value_counts()/df.shape[0]"
   ]
  },
  {
   "cell_type": "code",
   "execution_count": null,
   "metadata": {},
   "outputs": [],
   "source": [
    "# checking for distribution of data of each language\n",
    "plt.pie((ser)*100,labels =ser.index,autopct=\"%.2f\",rotatelabels=True)\n",
    "plt.show()"
   ]
  },
  {
   "cell_type": "code",
   "execution_count": null,
   "metadata": {},
   "outputs": [],
   "source": [
    "# checking data to cleanup\n",
    "df['text'][:10]"
   ]
  },
  {
   "cell_type": "markdown",
   "metadata": {},
   "source": [
    "### Data Cleaning and Transformation"
   ]
  },
  {
   "cell_type": "code",
   "execution_count": null,
   "metadata": {},
   "outputs": [],
   "source": [
    "def textclean(text):\n",
    "    \"\"\"\n",
    "    function to cleanup the textual data\n",
    "    text: any text\n",
    "    \"\"\"\n",
    "    text = text.lower()\n",
    "    text = re.sub(r'[!@#$(),\\n\"%^*?:;~`0-9]', '', text)\n",
    "    text = re.sub(r'\\[.*?\\]', '', text)\n",
    "    return text.strip()"
   ]
  },
  {
   "cell_type": "code",
   "execution_count": null,
   "metadata": {},
   "outputs": [],
   "source": [
    "# encoding languages with label encoder\n",
    "le = LabelEncoder()\n",
    "df['language']=le.fit_transform(df['language'])"
   ]
  },
  {
   "cell_type": "code",
   "execution_count": null,
   "metadata": {},
   "outputs": [],
   "source": [
    "# other transformers and vectorizer\n",
    "X = df['text'].apply(textclean)\n",
    "y = df['language']\n",
    "\n",
    "X_train, X_test, ytrain, ytest = train_test_split(X,y,test_size=.20)\n",
    "\n",
    "count = CountVectorizer()\n",
    "X_train = count.fit_transform(X_train)\n",
    "X_test = count.transform(X_test)\n",
    "\n",
    "tf = TfidfTransformer()\n",
    "X_train = tf.fit_transform(X_train)\n",
    "X_test = tf.transform(X_test)\n"
   ]
  },
  {
   "cell_type": "markdown",
   "metadata": {},
   "source": [
    "### Primary model training"
   ]
  },
  {
   "cell_type": "code",
   "execution_count": null,
   "metadata": {},
   "outputs": [],
   "source": [
    "# training primary model \n",
    "model = MultinomialNB()\n",
    "model.fit(X_train,ytrain)\n",
    "y_pred = model.predict(X_test)\n",
    "print(classification_report(ytest,y_pred))"
   ]
  },
  {
   "cell_type": "markdown",
   "metadata": {},
   "source": [
    "The above model shows great combination of precision and recall with an overall accuracy score of 96%."
   ]
  },
  {
   "cell_type": "code",
   "execution_count": null,
   "metadata": {},
   "outputs": [],
   "source": [
    "model.predict([X_test.toarray()[0]])"
   ]
  },
  {
   "cell_type": "code",
   "execution_count": null,
   "metadata": {},
   "outputs": [],
   "source": [
    "ytest[:1]"
   ]
  },
  {
   "cell_type": "markdown",
   "metadata": {},
   "source": [
    "### Pipeline Creation"
   ]
  },
  {
   "cell_type": "markdown",
   "metadata": {},
   "source": [
    "splitting data from previously copied main dataframe"
   ]
  },
  {
   "cell_type": "code",
   "execution_count": null,
   "metadata": {},
   "outputs": [],
   "source": [
    "data.columns=data.columns.str.lower()"
   ]
  },
  {
   "cell_type": "code",
   "execution_count": null,
   "metadata": {},
   "outputs": [],
   "source": [
    "X = data['text'].apply(textclean)\n",
    "y = data['language']\n",
    "\n",
    "# encoding languages with label encoder\n",
    "le = LabelEncoder()\n",
    "y=le.fit_transform(y)\n",
    "\n",
    "X_train, X_test, ytrain, ytest = train_test_split(X,y,test_size=.20)"
   ]
  },
  {
   "cell_type": "markdown",
   "metadata": {},
   "source": [
    "#### Data Cleaning Function"
   ]
  },
  {
   "cell_type": "code",
   "execution_count": null,
   "metadata": {},
   "outputs": [],
   "source": [
    "# class to transform text for Pipeline\n",
    "class TextClean(BaseEstimator, TransformerMixin):\n",
    "    def __init__(self):\n",
    "        pass\n",
    "    def fit(self,X,y=None):\n",
    "        return self\n",
    "    def transform(self, X, y=None):\n",
    "        if type(X)!=\"list\":\n",
    "            X=list(X)\n",
    "            X_=[]\n",
    "            for text in X:\n",
    "                text = text.lower()\n",
    "                text = re.sub(r'[!@#$(),\\n\"%^*?:;~`0-9]', '', text)\n",
    "                text = re.sub(r'\\[.*?\\]', '', text)\n",
    "                X_.append(text.strip())\n",
    "            return X_\n",
    "        elif type(X)=='str':\n",
    "            text = X.lower()\n",
    "            text = re.sub(r'[!@#$(),\\n\"%^*?:;~`0-9]', '', text)\n",
    "            text = re.sub(r'\\[.*?\\]', '', text)\n",
    "            return text"
   ]
  },
  {
   "cell_type": "code",
   "execution_count": null,
   "metadata": {},
   "outputs": [],
   "source": [
    "# creating Pipeline\n",
    "model_pipe = Pipeline([('textclean',TextClean()),\n",
    "                       ('vectorizer', CountVectorizer()),\n",
    "                       ('tfidf',TfidfTransformer()),\n",
    "                       ('bayes',MultinomialNB())])"
   ]
  },
  {
   "cell_type": "code",
   "execution_count": null,
   "metadata": {},
   "outputs": [],
   "source": [
    "# fitting pipeline\n",
    "model_pipe.fit(df['text'],df['language'])"
   ]
  },
  {
   "cell_type": "code",
   "execution_count": null,
   "metadata": {},
   "outputs": [],
   "source": [
    "# getting predictions\n",
    "pred = model_pipe.predict(X_test)"
   ]
  },
  {
   "cell_type": "code",
   "execution_count": null,
   "metadata": {},
   "outputs": [],
   "source": [
    "print(classification_report(ytest,pred))"
   ]
  },
  {
   "cell_type": "code",
   "execution_count": null,
   "metadata": {},
   "outputs": [],
   "source": [
    "import pickle\n",
    "# dumping model\n",
    "with open(\"./resources/model_pipe.pkl\", 'wb') as f:\n",
    "    f.write(pickle.dumps(model_pipe))\n",
    "\n",
    "with open(\"./resources/label_enc.pkl\", 'wb') as f:\n",
    "    f.write(pickle.dumps(le))"
   ]
  },
  {
   "cell_type": "code",
   "execution_count": null,
   "metadata": {},
   "outputs": [],
   "source": [
    "# loading model\n",
    "with open(\"./resources/model_pipe.pkl\", 'rb') as f:\n",
    "    model = pickle.load(f)"
   ]
  },
  {
   "cell_type": "code",
   "execution_count": null,
   "metadata": {},
   "outputs": [],
   "source": []
  }
 ],
 "metadata": {
  "kernelspec": {
   "display_name": "lang-det",
   "language": "python",
   "name": "python3"
  },
  "language_info": {
   "codemirror_mode": {
    "name": "ipython",
    "version": 3
   },
   "file_extension": ".py",
   "mimetype": "text/x-python",
   "name": "python",
   "nbconvert_exporter": "python",
   "pygments_lexer": "ipython3",
   "version": "3.10.13"
  }
 },
 "nbformat": 4,
 "nbformat_minor": 2
}
